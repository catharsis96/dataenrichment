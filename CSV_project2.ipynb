{
 "cells": [
  {
   "cell_type": "code",
   "execution_count": 1,
   "metadata": {},
   "outputs": [],
   "source": [
    "import pandas\n",
    "import csv\n",
    "import io\n",
    "import cx_Oracle"
   ]
  },
  {
   "cell_type": "markdown",
   "metadata": {},
   "source": [
    "Загружаем xlsx"
   ]
  },
  {
   "cell_type": "code",
   "execution_count": 12,
   "metadata": {},
   "outputs": [
    {
     "name": "stdout",
     "output_type": "stream",
     "text": [
      "0    Северо-Западный институт повышения квалификаци...\n",
      "Name: Название, dtype: object\n"
     ]
    }
   ],
   "source": [
    "DF = pandas.read_excel('C:\\\\Code\\\\Book2.xlsx')\n",
    "org = DF['Название']\n",
    "print(org)"
   ]
  },
  {
   "cell_type": "markdown",
   "metadata": {},
   "source": [
    "Открываем csv и проверяем, есть ли совпадение по названию. Если да, то записываем номер телефона."
   ]
  },
  {
   "cell_type": "code",
   "execution_count": 24,
   "metadata": {},
   "outputs": [
    {
     "name": "stdout",
     "output_type": "stream",
     "text": [
      "ФКУ \"НАЛОГ-СЕРВИС\" ФНС РОССИИ\n",
      "No info for Северо-Западный институт повышения квалификации Федеральной налоговой службы\n",
      "ФКУ «ОДЕЗ ФНС РОССИИ»\n",
      "No info for Северо-Западный институт повышения квалификации Федеральной налоговой службы\n",
      "ФБЛПУ \"САНАТОРИЙ \"РАДУГА\" ФНС РОССИИ\"\n",
      "No info for Северо-Западный институт повышения квалификации Федеральной налоговой службы\n",
      "ФБЛПУ \"САНАТОРИЙ \"ЭЛЛАДА\" ФНС РОССИИ\"\n",
      "No info for Северо-Западный институт повышения квалификации Федеральной налоговой службы\n",
      "ФБЛПУ «ЛРЦ «Подмосковье» ФНС России»\n",
      "No info for Северо-Западный институт повышения квалификации Федеральной налоговой службы\n",
      "ФБЛПУ \"САНАТОРИЙ-ПРОФИЛАКТОРИЙ \"ЗОЛОТОЙ БЕРЕГ\" ФНС РОССИИ\"\n",
      "No info for Северо-Западный институт повышения квалификации Федеральной налоговой службы\n",
      "ФБЛПУ \"САНАТОРИЙ-ПРОФИЛАКТОРИЙ \"Днепр\" ФНС РОССИИ\"\n",
      "No info for Северо-Западный институт повышения квалификации Федеральной налоговой службы\n",
      "ФБДОУ \"ДОЛ \"БЕРЕЗКА\" ФНС РОССИИ\"\n",
      "No info for Северо-Западный институт повышения квалификации Федеральной налоговой службы\n",
      "Приволжский институт повышения квалификации Федеральной налоговой службы\n",
      "No info for Северо-Западный институт повышения квалификации Федеральной налоговой службы\n",
      "Северо-Западный институт повышения квалификации Федеральной налоговой службы\n",
      "success\n"
     ]
    }
   ],
   "source": [
    "path = \"C:\\\\code\\\\dataenrichment\\\\data-full.csv\"\n",
    "i = 0\n",
    "for o in org:\n",
    "    with io.open(path, encoding='utf-8') as f:\n",
    "        reader = csv.reader(f, delimiter=';')\n",
    "        first = True\n",
    "        for r in reader:\n",
    "            if first:\n",
    "                first = False\n",
    "                continue\n",
    "            name = r[1]\n",
    "            print(name)\n",
    "            if o in name:\n",
    "                print(\"success\")\n",
    "                DF.insert(i, 'Телефон', r[4], True)\n",
    "                break\n",
    "#.insert(loc, column, value, allow_duplicates = False)\n",
    "            else:\n",
    "                print(\"No info for {}\".format(o))\n",
    "    i += 1"
   ]
  },
  {
   "cell_type": "code",
   "execution_count": 4,
   "metadata": {},
   "outputs": [
    {
     "name": "stdout",
     "output_type": "stream",
     "text": [
      "0     7 (812) 492-20-58\n",
      "1     7 (495) 913-09-65\n",
      "2     7 (495) 606-71-94\n",
      "3                   NaN\n",
      "4     7 (8622) 90-72-02\n",
      "5     7 (496) 31-721-00\n",
      "6    7 (861) 33-3-35-82\n",
      "7     7 (495) 577-95-11\n",
      "Name: Телефон, dtype: object\n"
     ]
    }
   ],
   "source": [
    "print(DF['Телефон'])"
   ]
  },
  {
   "cell_type": "markdown",
   "metadata": {},
   "source": [
    "Создаём связь с базой данных"
   ]
  },
  {
   "cell_type": "code",
   "execution_count": 6,
   "metadata": {},
   "outputs": [],
   "source": [
    "cx_Oracle.init_oracle_client(lib_dir=\"C:\\\\oracle\\\\instantclient_19_8\")"
   ]
  },
  {
   "cell_type": "code",
   "execution_count": 7,
   "metadata": {},
   "outputs": [],
   "source": [
    "conn = cx_Oracle.connect(r'login', r'password', 'db202009151316_high')"
   ]
  },
  {
   "cell_type": "code",
   "execution_count": 8,
   "metadata": {},
   "outputs": [],
   "source": [
    "cursor = conn.cursor()"
   ]
  },
  {
   "cell_type": "markdown",
   "metadata": {},
   "source": [
    "Создаём таблицу"
   ]
  },
  {
   "cell_type": "code",
   "execution_count": 12,
   "metadata": {},
   "outputs": [],
   "source": [
    "cursor.execute(\"CREATE TABLE ORGANIZATIONS(name VARCHAR2(255),phnumber VARCHAR2(40))\")"
   ]
  },
  {
   "cell_type": "markdown",
   "metadata": {},
   "source": [
    "Если есть значение телефона, то записываем в таблицу"
   ]
  },
  {
   "cell_type": "code",
   "execution_count": 13,
   "metadata": {},
   "outputs": [],
   "source": [
    "for c in range(len(org)):\n",
    "    if not pandas.isna(DF['Телефон'][c]):\n",
    "        cursor.execute(\"INSERT INTO ORGANIZATIONS(name, phnumber) VALUES(:name, :phnumber)\", [DF['Название'][c], DF['Телефон'][c]])"
   ]
  },
  {
   "cell_type": "code",
   "execution_count": 14,
   "metadata": {},
   "outputs": [
    {
     "name": "stdout",
     "output_type": "stream",
     "text": [
      "[('Северо-Западный институт повышения квалификации Федеральной налоговой службы', '7 (812) 492-20-58'), ('ФКУ \"НАЛОГ-СЕРВИС\" ФНС РОССИИ', '7 (495) 913-09-65'), ('ФКУ «ОДЕЗ ФНС РОССИИ»', '7 (495) 606-71-94'), ('ФБЛПУ \"САНАТОРИЙ \"РАДУГА\" ФНС РОССИИ\"', '7 (8622) 90-72-02'), ('ФБДОУ \"ДОЛ \"БЕРЕЗКА\" ФНС РОССИИ\"', '7 (496) 31-721-00'), ('ФБЛПУ \"САНАТОРИЙ \"ЭЛЛАДА\" ФНС РОССИИ\"', '7 (861) 33-3-35-82'), ('ФБЛПУ «ЛРЦ «Подмосковье» ФНС России»', '7 (495) 577-95-11')]\n"
     ]
    }
   ],
   "source": [
    "cursor.execute(\"SELECT * FROM ORGANIZATIONS\")\n",
    "result = cursor.fetchall()\n",
    "print(result)"
   ]
  },
  {
   "cell_type": "code",
   "execution_count": 15,
   "metadata": {},
   "outputs": [],
   "source": [
    "conn.close()"
   ]
  },
  {
   "cell_type": "code",
   "execution_count": 11,
   "metadata": {},
   "outputs": [],
   "source": [
    "#cursor.execute(\"DROP TABLE ORGANIZATIONS\")"
   ]
  },
  {
   "cell_type": "code",
   "execution_count": null,
   "metadata": {},
   "outputs": [],
   "source": []
  }
 ],
 "metadata": {
  "kernelspec": {
   "display_name": "Python 3",
   "language": "python",
   "name": "python3"
  },
  "language_info": {
   "codemirror_mode": {
    "name": "ipython",
    "version": 3
   },
   "file_extension": ".py",
   "mimetype": "text/x-python",
   "name": "python",
   "nbconvert_exporter": "python",
   "pygments_lexer": "ipython3",
   "version": "3.8.3"
  }
 },
 "nbformat": 4,
 "nbformat_minor": 4
}
